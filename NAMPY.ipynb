{
  "nbformat": 4,
  "nbformat_minor": 0,
  "metadata": {
    "colab": {
      "provenance": []
    },
    "kernelspec": {
      "name": "python3",
      "display_name": "Python 3"
    },
    "language_info": {
      "name": "python"
    }
  },
  "cells": [
    {
      "cell_type": "markdown",
      "source": [
        "#1. What is NumPy, and why is it widely used in Python?\n",
        "Answer:\n",
        "NumPy (Numerical Python) is a powerful library for numerical computing. It provides efficient array objects and functions for mathematical operations. It's widely used due to its speed, support for large datasets, and compatibility with other scientific libraries.\n",
        "\n",
        "#2. How does broadcasting work in NumPy?\n",
        "Answer:\n",
        "Broadcasting allows NumPy to perform operations on arrays of different shapes by automatically expanding their dimensions to match. This simplifies array arithmetic without explicit loops.\n",
        "\n",
        "#3. What is a Pandas DataFrame?\n",
        "Answer:\n",
        "A DataFrame is a 2D labeled data structure in Pandas, similar to a table in a database or an Excel spreadsheet. It allows data manipulation with columns of different types.\n",
        "\n",
        "#4. Explain the use of the groupby() method in Pandas.\n",
        "Answer:\n",
        "The groupby() method is used to group data based on one or more keys and apply aggregation functions (like sum, mean). It's useful for summarizing large datasets.\n",
        "\n",
        "#5. Why is Seaborn preferred for statistical visualizations?\n",
        "Answer:\n",
        "Seaborn provides high-level functions for attractive, informative statistical graphics. It integrates well with Pandas and offers plots like boxplots, heatmaps, and violin plots.\n",
        "\n",
        "#6. What are the differences between NumPy arrays and Python lists?\n",
        "Answer:\n",
        "\n",
        "NumPy arrays are more memory-efficient.\n",
        "\n",
        "They support vectorized operations.\n",
        "\n",
        "Fixed type, unlike Python lists.\n",
        "\n",
        "Faster performance for numerical computations.\n",
        "\n",
        "#7. What is a heatmap, and when should it be used?\n",
        "Answer:\n",
        "A heatmap is a graphical representation of data where individual values are represented by color. It's useful for visualizing correlation matrices or showing concentration of values.\n",
        "\n",
        "#8. What does the term “vectorized operation” mean in NumPy?\n",
        "Answer:\n",
        "Vectorized operations allow element-wise operations on arrays without explicit loops, making code concise and efficient.\n",
        "\n",
        "#9. How does Matplotlib differ from Plotly?\n",
        "Answer:\n",
        "\n",
        "Matplotlib: Static, scriptable plotting library.\n",
        "\n",
        "Plotly: Interactive, browser-based plots with zoom and hover support.\n",
        "\n",
        "#10. What is the significance of hierarchical indexing in Pandas?\n",
        "Answer:\n",
        "Hierarchical indexing (MultiIndex) allows multiple levels of indexing on rows or columns, enabling complex data representation and efficient querying.\n",
        "\n",
        "#11. What is the role of Seaborn’s pairplot() function?\n",
        "Answer:\n",
        "pairplot() creates pairwise scatter plots of numeric columns, useful for visualizing relationships and distributions across multiple variables.\n",
        "\n",
        "#12. What is the purpose of the describe() function in Pandas?\n",
        "Answer:\n",
        "describe() provides summary statistics (count, mean, std, min, max, etc.) of DataFrame columns, useful for data exploration.\n",
        "\n",
        "#13. Why is handling missing data important in Pandas?\n",
        "Answer:\n",
        "Missing data can bias analysis or cause errors. Pandas offers methods (fillna(), dropna()) to handle missing values appropriately.\n",
        "\n",
        "#14. What are the benefits of using Plotly for data visualization?\n",
        "Answer:\n",
        "\n",
        "Interactive charts\n",
        "\n",
        "Web-friendly\n",
        "\n",
        "Beautiful built-in themes\n",
        "\n",
        "Easy integration with Dash for dashboards\n",
        "\n",
        "#15. How does NumPy handle multidimensional arrays?\n",
        "Answer:\n",
        "NumPy uses the ndarray object to handle multi-dimensional arrays efficiently with attributes like shape, ndim, and supports operations along axes.\n",
        "\n",
        "#16. What is the role of Bokeh in data visualization?\n",
        "Answer:\n",
        "Bokeh creates interactive visualizations for the web using Python. It supports zooming, panning, and live streaming of data.\n",
        "\n",
        "#17. Explain the difference between apply() and map() in Pandas.\n",
        "Answer:\n",
        "\n",
        "map() is used with Series for element-wise transformations.\n",
        "\n",
        "apply() works with both Series and DataFrames, applying functions row-wise or column-wise.\n",
        "\n",
        "#18. What are some advanced features of NumPy?\n",
        "Answer:\n",
        "\n",
        "Broadcasting\n",
        "\n",
        "Structured arrays\n",
        "\n",
        "Memory mapping\n",
        "\n",
        "Universal functions (ufuncs)\n",
        "\n",
        "Masked arrays\n",
        "\n",
        "#19. How does Pandas simplify time series analysis?\n",
        "Answer:\n",
        "Pandas provides powerful tools like date_range, resample, and time-aware indexing for easy manipulation and analysis of time series data.\n",
        "\n",
        "#20. What is the role of a pivot table in Pandas?\n",
        "Answer:\n",
        "Pivot tables summarize data by aggregating values based on categories. It’s used to reshape and analyze datasets easily.\n",
        "\n",
        "#21. Why is NumPy’s array slicing faster than Python’s list slicing?\n",
        "Answer:\n",
        "NumPy arrays are stored in contiguous memory blocks and processed via C-level operations, making slicing operations much faster than native Python lists.\n",
        "\n",
        "#22. What are some common use cases for Seaborn?\n",
        "Answer:\n",
        "\n",
        "Visualizing distributions (histplot, kdeplot)\n",
        "\n",
        "Exploring relationships (scatterplot, pairplot)\n",
        "\n",
        "Statistical comparisons (boxplot, violinplot)\n",
        "\n",
        "Heatmaps for correlation or matrix data"
      ],
      "metadata": {
        "id": "B4A8pYEcnr6w"
      }
    },
    {
      "cell_type": "code",
      "source": [
        "import numpy as np\n",
        "\n",
        "arr = np.array([[1, 2, 3], [4, 5, 6]])\n",
        "row_sum = arr.sum(axis=1)\n",
        "print(\"Sum of each row:\", row_sum)\n"
      ],
      "metadata": {
        "id": "yHQHZh7WnzBP"
      },
      "execution_count": null,
      "outputs": []
    },
    {
      "cell_type": "code",
      "source": [
        "import pandas as pd\n",
        "\n",
        "df = pd.DataFrame({'Math': [80, 90, 70], 'Science': [88, 76, 95]})\n",
        "mean_math = df['Math'].mean()\n",
        "print(\"Mean of Math:\", mean_math)\n"
      ],
      "metadata": {
        "id": "dcSUzm9Lny-2"
      },
      "execution_count": null,
      "outputs": []
    },
    {
      "cell_type": "code",
      "source": [
        "import matplotlib.pyplot as plt\n",
        "\n",
        "x = [1, 2, 3]\n",
        "y = [4, 1, 9]\n",
        "plt.scatter(x, y)\n",
        "plt.title(\"Scatter Plot\")\n",
        "plt.xlabel(\"X-axis\")\n",
        "plt.ylabel(\"Y-axis\")\n",
        "plt.show()\n"
      ],
      "metadata": {
        "id": "3YBMJGP_ny73"
      },
      "execution_count": null,
      "outputs": []
    },
    {
      "cell_type": "code",
      "source": [
        "import seaborn as sns\n",
        "\n",
        "df = pd.DataFrame({'A': [1, 2, 3], 'B': [3, 2, 1], 'C': [2, 3, 4]})\n",
        "corr = df.corr()\n",
        "sns.heatmap(corr, annot=True, cmap=\"coolwarm\")\n",
        "plt.title(\"Correlation Heatmap\")\n",
        "plt.show()\n"
      ],
      "metadata": {
        "id": "dui_4oMUny5v"
      },
      "execution_count": null,
      "outputs": []
    },
    {
      "cell_type": "code",
      "source": [
        "import plotly.express as px\n",
        "\n",
        "data = {'Fruits': ['Apple', 'Banana', 'Orange'], 'Quantity': [10, 15, 7]}\n",
        "df = pd.DataFrame(data)\n",
        "fig = px.bar(df, x='Fruits', y='Quantity', title=\"Fruit Quantity\")\n",
        "fig.show()\n"
      ],
      "metadata": {
        "id": "ud4Q_MvMny2n"
      },
      "execution_count": null,
      "outputs": []
    },
    {
      "cell_type": "code",
      "source": [
        "df = pd.DataFrame({'Sales': [100, 200, 150]})\n",
        "df['Tax'] = df['Sales'] * 0.1\n",
        "print(df)\n"
      ],
      "metadata": {
        "id": "_YYnk-wlnyxf"
      },
      "execution_count": null,
      "outputs": []
    },
    {
      "cell_type": "code",
      "source": [
        "a = np.array([1, 2, 3])\n",
        "b = np.array([4, 5, 6])\n",
        "result = a * b\n",
        "print(\"Element-wise multiplication:\", result)\n"
      ],
      "metadata": {
        "id": "2o-IHXiYnyue"
      },
      "execution_count": null,
      "outputs": []
    },
    {
      "cell_type": "code",
      "source": [
        "x = [1, 2, 3]\n",
        "y1 = [1, 4, 9]\n",
        "y2 = [2, 3, 5]\n",
        "\n",
        "plt.plot(x, y1, label='Line 1')\n",
        "plt.plot(x, y2, label='Line 2')\n",
        "plt.legend()\n",
        "plt.title(\"Multiple Lines\")\n",
        "plt.show()\n"
      ],
      "metadata": {
        "id": "xtyGNU3lnyrm"
      },
      "execution_count": null,
      "outputs": []
    },
    {
      "cell_type": "code",
      "source": [
        "df = pd.DataFrame({'Score': [55, 82, 91, 45]})\n",
        "filtered = df[df['Score'] > 60]\n",
        "print(filtered)\n"
      ],
      "metadata": {
        "id": "Lzsg64PDnypG"
      },
      "execution_count": null,
      "outputs": []
    },
    {
      "cell_type": "code",
      "source": [
        "import seaborn as sns\n",
        "\n",
        "data = [10, 20, 20, 30, 40, 40, 40, 50]\n",
        "sns.histplot(data, bins=5, kde=True)\n",
        "plt.title(\"Histogram\")\n",
        "plt.show()\n"
      ],
      "metadata": {
        "id": "PId9BFShnymO"
      },
      "execution_count": null,
      "outputs": []
    },
    {
      "cell_type": "code",
      "source": [
        "A = np.array([[1, 2], [3, 4]])\n",
        "B = np.array([[2, 0], [1, 2]])\n",
        "result = np.dot(A, B)\n",
        "print(\"Matrix Multiplication:\\n\", result)\n"
      ],
      "metadata": {
        "id": "3yUBZKGsnyje"
      },
      "execution_count": null,
      "outputs": []
    },
    {
      "cell_type": "code",
      "source": [
        "# Assuming a file named \"data.csv\" exists in your directory\n",
        "df = pd.read_csv(\"data.csv\")\n",
        "print(df.head())\n"
      ],
      "metadata": {
        "id": "Cfd9GUqDnygm"
      },
      "execution_count": null,
      "outputs": []
    },
    {
      "cell_type": "code",
      "source": [
        "import plotly.express as px\n",
        "import pandas as pd\n",
        "\n",
        "df = pd.DataFrame({\n",
        "    'x': [1, 2, 3],\n",
        "    'y': [4, 5, 6],\n",
        "    'z': [7, 8, 9]\n",
        "})\n",
        "\n",
        "fig = px.scatter_3d(df, x='x', y='y', z='z', title='3D Scatter Plot')\n",
        "fig.show()\n"
      ],
      "metadata": {
        "id": "0fc-A3T6nyeH"
      },
      "execution_count": null,
      "outputs": []
    },
    {
      "cell_type": "code",
      "source": [],
      "metadata": {
        "id": "LlqOwabOnybW"
      },
      "execution_count": null,
      "outputs": []
    },
    {
      "cell_type": "code",
      "source": [],
      "metadata": {
        "id": "2hsJcMZ1nyY-"
      },
      "execution_count": null,
      "outputs": []
    },
    {
      "cell_type": "code",
      "source": [],
      "metadata": {
        "id": "S9eUhQ0PnyWQ"
      },
      "execution_count": null,
      "outputs": []
    },
    {
      "cell_type": "code",
      "source": [],
      "metadata": {
        "id": "un6c7lhInyTO"
      },
      "execution_count": null,
      "outputs": []
    },
    {
      "cell_type": "code",
      "source": [],
      "metadata": {
        "id": "HNbxTuvgnyQm"
      },
      "execution_count": null,
      "outputs": []
    },
    {
      "cell_type": "code",
      "source": [],
      "metadata": {
        "id": "05-zxayRnyIf"
      },
      "execution_count": null,
      "outputs": []
    }
  ]
}