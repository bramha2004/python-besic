{
  "nbformat": 4,
  "nbformat_minor": 0,
  "metadata": {
    "colab": {
      "provenance": []
    },
    "kernelspec": {
      "name": "python3",
      "display_name": "Python 3"
    },
    "language_info": {
      "name": "python"
    }
  },
  "cells": [
    {
      "cell_type": "markdown",
      "source": [
        "#1**.What are data structures, and why are they important?**\n",
        "\n",
        "Data structures are ways to store and organize data so we can use it efficiently. For example, lists, sets, and dictionaries. They help us find, sort, and manage data quickly."
      ],
      "metadata": {
        "id": "5vPAOGajkKio"
      }
    },
    {
      "cell_type": "markdown",
      "source": [
        "#2.Mutable vs Immutable Data Types (with examples)\n",
        "Mutable = can be changed (like a list: [1, 2] → we can add 3)\n",
        "\n",
        "Immutable = can’t be changed (like a string: \"hello\" → we can’t change the first letter)"
      ],
      "metadata": {
        "id": "EBZob8eWklil"
      }
    },
    {
      "cell_type": "markdown",
      "source": [
        "#3. Lists vs Tuples\n",
        "\n",
        "Lists: [ ], changeable (mutable), like: [1, 2, 3]\n",
        "\n",
        "# Tuples: ( ), not changeable (immutable), like: (1, 2, 3)"
      ],
      "metadata": {
        "id": "roSTxadzkmeu"
      }
    },
    {
      "cell_type": "markdown",
      "source": [
        "#4.How do dictionaries store data?\n",
        "They store data as key-value pairs. Like {\"name\": \"Alice\", \"age\": 25}\n",
        "\n"
      ],
      "metadata": {
        "id": "clev5xvNkmo3"
      }
    },
    {
      "cell_type": "markdown",
      "source": [
        "#5.Why use a set instead of a list?\n",
        "Sets automatically remove duplicates and are faster for checking if something exists."
      ],
      "metadata": {
        "id": "ejy1ZaQvkmx9"
      }
    },
    {
      "cell_type": "markdown",
      "source": [
        "#6.What is a string, and how is it different from a list?\n",
        "A string is a sequence of characters, like \"hello\". A list can contain any data type, like [1, \"hello\", 3.5]."
      ],
      "metadata": {
        "id": "KS60sHnFkm1d"
      }
    },
    {
      "cell_type": "markdown",
      "source": [
        "#7.How do tuples ensure data integrity?\n",
        "Since they can’t be changed, they keep the data safe and unchanged."
      ],
      "metadata": {
        "id": "svPWvcMekm4N"
      }
    },
    {
      "cell_type": "markdown",
      "source": [
        "#8.What is a hash table and how does it relate to dictionaries?\n",
        "A hash table is the technology behind dictionaries. It helps find values fast using keys."
      ],
      "metadata": {
        "id": "tlUenmdckm61"
      }
    },
    {
      "cell_type": "markdown",
      "source": [
        "#9.Can lists contain different data types?\n",
        "Yes, like [1, \"hello\", True]"
      ],
      "metadata": {
        "id": "ImyrS9P_km9V"
      }
    },
    {
      "cell_type": "markdown",
      "source": [
        "#10.Why are strings immutable in Python?\n",
        "For safety and speed. If strings were changeable, it would be slower and cause bugs.|"
      ],
      "metadata": {
        "id": "wtsfDE4olyAn"
      }
    },
    {
      "cell_type": "markdown",
      "source": [
        "#11.Advantages of dictionaries over lists\n",
        "Easy to find data using keys instead of positions. Example: person[\"age\"] is easier than searching through a list.|"
      ],
      "metadata": {
        "id": "GULJuJNQlzs2"
      }
    },
    {
      "cell_type": "markdown",
      "source": [
        "#12.When to use a tuple instead of a list\n",
        "When you don’t want the data to be changed. Like coordinates (10, 20)."
      ],
      "metadata": {
        "id": "eQy6PEanlz1m"
      }
    },
    {
      "cell_type": "markdown",
      "source": [
        "#13.How do sets handle duplicates?\n",
        "They remove them. Set {1, 2, 2} becomes {1, 2}."
      ],
      "metadata": {
        "id": "LMm5q-qrlz9e"
      }
    },
    {
      "cell_type": "markdown",
      "source": [
        "#14.How does “in” work for lists vs dictionaries?\n",
        "\n",
        "List: checks for value → 3 in [1, 2, 3]\n",
        "\n",
        "Dictionary: checks for key → \"name\" in {\"name\": \"Bob\"}"
      ],
      "metadata": {
        "id": "dgDeZ6Idl0Bl"
      }
    },
    {
      "cell_type": "markdown",
      "source": [
        "#15.Can you modify a tuple? Why not?\n",
        "No, because it’s immutable. That’s how Python designed it.\n",
        "\n"
      ],
      "metadata": {
        "id": "owJzbhm7mFBW"
      }
    },
    {
      "cell_type": "markdown",
      "source": [
        "#16.What is a nested dictionary? Example?\n",
        "A dictionary inside another dictionary.\n",
        "Example: {\"person\": {\"name\": \"Bob\", \"age\": 25}}"
      ],
      "metadata": {
        "id": "d4a5WKV2mFJP"
      }
    },
    {
      "cell_type": "markdown",
      "source": [
        "#17.Time complexity to access dictionary values?\n",
        "Very fast"
      ],
      "metadata": {
        "id": "Pc1Urx1UmFRG"
      }
    },
    {
      "cell_type": "markdown",
      "source": [
        "#18.When are lists preferred over dictionaries?\n",
        "When you only need to store simple data in order, like [10, 20, 30]."
      ],
      "metadata": {
        "id": "Www6GopAmZ5O"
      }
    },
    {
      "cell_type": "markdown",
      "source": [
        "#19.Why are dictionaries unordered?\n",
        "They don’t store data in the order you add it. That’s okay, because you usually search by key."
      ],
      "metadata": {
        "id": "i3oq_p0NmZ-e"
      }
    },
    {
      "cell_type": "markdown",
      "source": [
        "#20.ifference between a list and a dictionary (data retrieval)\n",
        "\n",
        "List: get data by position/index\n",
        "\n",
        "Dictionary: get data by key"
      ],
      "metadata": {
        "id": "UxjX3XLNmaMu"
      }
    },
    {
      "cell_type": "code",
      "source": [
        "# 1. Create and print a string with your name\n",
        "name = \"John\"\n",
        "print(name)\n",
        "\n",
        "# 2. Find length of \"Hello World\"\n",
        "print(len(\"Hello World\"))\n",
        "\n",
        "# 3. Slice first 3 characters from \"Python Programming\"\n",
        "print(\"Python Programming\"[:3])\n",
        "\n",
        "# 4. Convert \"hello\" to uppercase\n",
        "print(\"hello\".upper())\n",
        "\n",
        "# 5. Replace \"apple\" with \"orange\"\n",
        "print(\"I like apple\".replace(\"apple\", \"orange\"))\n",
        "\n",
        "# 6. Create list with 1 to 5\n",
        "print([1, 2, 3, 4, 5])\n",
        "\n",
        "# 7. Append 10 to list\n",
        "lst = [1, 2, 3, 4]\n",
        "lst.append(10)\n",
        "print(lst)\n",
        "\n",
        "# 8. Remove 3 from list\n",
        "lst = [1, 2, 3, 4, 5]\n",
        "lst.remove(3)\n",
        "print(lst)\n",
        "\n",
        "# 9. Access second element in list\n",
        "print(['a', 'b', 'c', 'd'][1])\n",
        "\n",
        "# 10. Reverse the list\n",
        "print([10, 20, 30, 40, 50][::-1])\n",
        "\n",
        "# 11. Create a tuple and print it\n",
        "print((100, 200, 300))\n",
        "\n",
        "# 12. Access second-to-last element\n",
        "print(('red', 'green', 'blue', 'yellow')[-2])\n",
        "\n",
        "# 13. Find min in tuple\n",
        "print(min((10, 20, 5, 15)))\n",
        "\n",
        "# 14. Find index of \"cat\"\n",
        "print(('dog', 'cat', 'rabbit').index(\"cat\"))\n",
        "\n",
        "# 15. Check if \"kiwi\" is in tuple\n",
        "fruits = ('apple', 'banana', 'mango')\n",
        "print(\"kiwi\" in fruits)\n",
        "\n",
        "# 16. Create and print a set\n",
        "print(set(['a', 'b', 'c']))\n",
        "\n",
        "# 17. Clear set\n",
        "s = {1, 2, 3, 4, 5}\n",
        "s.clear()\n",
        "print(s)\n",
        "\n",
        "# 18. Remove 4 from set\n",
        "s = {1, 2, 3, 4}\n",
        "s.remove(4)\n",
        "print(s)\n",
        "\n",
        "# 19. Union of sets\n",
        "print({1, 2, 3} | {3, 4, 5})\n",
        "\n",
        "# 20. Intersection of sets\n",
        "print({1, 2, 3} & {2, 3, 4})\n",
        "\n",
        "# 21. Create dictionary\n",
        "print({\"name\": \"John\", \"age\": 25, \"city\": \"New York\"})\n",
        "\n",
        "# 22. Add new key-value\n",
        "d = {'name': 'John', 'age': 25}\n",
        "d['country'] = 'USA'\n",
        "print(d)\n",
        "\n",
        "# 23. Access value by key\n",
        "print({'name': 'Alice', 'age': 30}['name'])\n",
        "\n",
        "# 24. Remove key \"age\"\n",
        "d = {'name': 'Bob', 'age': 22, 'city': 'New York'}\n",
        "del d['age']\n",
        "print(d)\n",
        "\n",
        "# 25. Check if \"city\" exists\n",
        "print(\"city\" in {'name': 'Alice', 'city': 'Paris'})\n",
        "\n",
        "# 26. Create list, tuple, dictionary\n",
        "lst = [1, 2, 3]\n",
        "tpl = (4, 5, 6)\n",
        "dct = {\"a\": 1, \"b\": 2}\n",
        "print(lst, tpl, dct)\n",
        "\n",
        "# 27. List of 5 random numbers, sort it\n",
        "import random\n",
        "nums = random.sample(range(1, 101), 5)\n",
        "nums.sort()\n",
        "print(nums)\n",
        "\n",
        "# 28. List with strings, print third index\n",
        "strings = [\"a\", \"b\", \"c\", \"d\", \"e\"]\n",
        "print(strings[3])\n",
        "\n",
        "# 29. Combine two dictionaries\n",
        "d1 = {\"a\": 1}\n",
        "d2 = {\"b\": 2}\n",
        "d1.update(d2)\n",
        "print(d1)\n",
        "\n",
        "# 30. Convert list of strings to set\n",
        "print(set([\"apple\", \"banana\", \"apple\"]))\n"
      ],
      "metadata": {
        "colab": {
          "base_uri": "https://localhost:8080/"
        },
        "id": "XSsO8t8emltu",
        "outputId": "f6d7c610-07ea-4885-f33b-b92a663b1951"
      },
      "execution_count": 1,
      "outputs": [
        {
          "output_type": "stream",
          "name": "stdout",
          "text": [
            "John\n",
            "11\n",
            "Pyt\n",
            "HELLO\n",
            "I like orange\n",
            "[1, 2, 3, 4, 5]\n",
            "[1, 2, 3, 4, 10]\n",
            "[1, 2, 4, 5]\n",
            "b\n",
            "[50, 40, 30, 20, 10]\n",
            "(100, 200, 300)\n",
            "blue\n",
            "5\n",
            "1\n",
            "False\n",
            "{'b', 'c', 'a'}\n",
            "set()\n",
            "{1, 2, 3}\n",
            "{1, 2, 3, 4, 5}\n",
            "{2, 3}\n",
            "{'name': 'John', 'age': 25, 'city': 'New York'}\n",
            "{'name': 'John', 'age': 25, 'country': 'USA'}\n",
            "Alice\n",
            "{'name': 'Bob', 'city': 'New York'}\n",
            "True\n",
            "[1, 2, 3] (4, 5, 6) {'a': 1, 'b': 2}\n",
            "[39, 41, 53, 68, 98]\n",
            "d\n",
            "{'a': 1, 'b': 2}\n",
            "{'apple', 'banana'}\n"
          ]
        }
      ]
    },
    {
      "cell_type": "code",
      "source": [],
      "metadata": {
        "id": "0m8JbwjOmtmg"
      },
      "execution_count": null,
      "outputs": []
    }
  ]
}