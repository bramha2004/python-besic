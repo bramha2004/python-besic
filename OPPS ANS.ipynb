{
  "nbformat": 4,
  "nbformat_minor": 0,
  "metadata": {
    "colab": {
      "provenance": []
    },
    "kernelspec": {
      "name": "python3",
      "display_name": "Python 3"
    },
    "language_info": {
      "name": "python"
    }
  },
  "cells": [
    {
      "cell_type": "markdown",
      "source": [
        "#1.Object-Oriented Programming (OOP):  \n",
        "A programming paradigm based on the concept of objects containing data and behavior.\n",
        "\n",
        "#2.Class: A blueprint for creating objects.\n",
        " It defines attributes and methods common to all objects of that type.\n",
        "\n",
        "#3.Object:\n",
        "An instance of a class containing real values instead of variables.\n",
        "\n",
        "#4.Abstraction vs. Encapsulation:\n",
        "\n",
        "Abstraction hides complexity by showing only relevant data.\n",
        "\n",
        "Encapsulation wraps data and methods together and restricts access using access modifiers.\n",
        "\n",
        "#5.Dunder Methods:\n",
        " Special methods in Python with double underscores (e.g., __init__, __str__), used to define behavior for operators and built-in functions.\n",
        "\n",
        "#6.Inheritance:\n",
        "A mechanism to derive a class from another, inheriting its attributes and methods.\n",
        "\n",
        "#7.Polymorphism:\n",
        "Ability of different classes to be treated as instances of the same parent class through common interfaces.\n",
        "\n",
        "#8.Encapsulation in Python:\n",
        "Achieved by using private/protected attributes (via _ or __) and providing getters/setters.\n",
        "\n",
        "#9.Constructor in Python:\n",
        " The __init__ method, automatically called when an object is created.\n",
        "\n",
        "#10.Class and Static Methods:\n",
        "\n",
        "@classmethod: Takes cls as the first parameter.\n",
        "\n",
        "@staticmethod: Doesn’t take self or cls.\n",
        "\n",
        "#11Method Overloading:\n",
        " Not supported directly in Python, can be mimicked using default arguments or variable-length arguments.\n",
        "\n",
        "#12.Method Overriding:\n",
        " Redefining a method of a parent class in a child class.\n",
        "\n",
        "#13Property Decorator:\n",
        " Allows a method to be accessed like an attribute using @property.\n",
        "\n",
        "#14.Importance of Polymorphism:\n",
        "Allows flexibility and code reuse by calling the same interface on different object types.\n",
        "\n",
        "#15.Abstract Class:\n",
        " A class with one or more abstract methods (using abc module), not meant to be instantiated directly.\n",
        "\n",
        "#16.Advantages of OOP:\n",
        "\n",
        "Code reusability\n",
        "\n",
        "Scalability\n",
        "\n",
        "Maintainability\n",
        "\n",
        "Data protection\n",
        "\n",
        "#17.Class vs Instance Variable:\n",
        "\n",
        "Class variables are shared across all instances.\n",
        "\n",
        "Instance variables are unique to each object.\n",
        "\n",
        "#18.Multiple Inheritance:\n",
        " A class inherits from more than one parent class.\n",
        "\n",
        "#19.__str__ vs __repr__:\n",
        "\n",
        "__str__: User-friendly string representation.\n",
        "\n",
        "__repr__: Developer-focused, unambiguous string output.\n",
        "#20.super() Function:\n",
        " Used to call a method from the parent class, especially useful in method overriding.\n",
        "\n",
        "#21.__del__ Method:\n",
        " Destructor method, called when an object is about to be destroyed.\n",
        "\n",
        "#22.@staticmethod vs @classmethod:\n",
        "\n",
        "staticmethod does not access class or instance.\n",
        "\n",
        "classmethod can access class variables and is bound to the class.\n",
        "\n",
        "#23.Polymorphism with Inheritance:\n",
        " Subclasses override parent class methods and are accessed via base class references.\n",
        "\n",
        "#24.Method Chaining:\n",
        " Returning self from methods so that multiple methods can be called in a single line.\n",
        "\n",
        "#25.__call__ Method:\n",
        " Allows an instance of a class to be called as if it were a function."
      ],
      "metadata": {
        "id": "kk5OfxAfhQtv"
      }
    },
    {
      "cell_type": "code",
      "source": [
        "class Animal:\n",
        "    def speak(self):\n",
        "        print(\"Animal speaks\")\n",
        "\n",
        "class Dog(Animal):\n",
        "    def speak(self):\n",
        "        print(\"Bark!\")\n"
      ],
      "metadata": {
        "id": "jE7-JqeXivT_"
      },
      "execution_count": 1,
      "outputs": []
    },
    {
      "cell_type": "code",
      "source": [
        "from abc import ABC, abstractmethod\n",
        "\n",
        "class Shape(ABC):\n",
        "    @abstractmethod\n",
        "    def area(self):\n",
        "        pass\n",
        "\n",
        "class Circle(Shape):\n",
        "    def __init__(self, radius):\n",
        "        self.radius = radius\n",
        "\n",
        "    def area(self):\n",
        "        return 3.14 * self.radius ** 2\n",
        "\n",
        "class Rectangle(Shape):\n",
        "    def __init__(self, length, width):\n",
        "        self.length = length\n",
        "        self.width = width\n",
        "\n",
        "    def area(self):\n",
        "        return self.length * self.width\n"
      ],
      "metadata": {
        "id": "pnFVtKP1ix8-"
      },
      "execution_count": 2,
      "outputs": []
    },
    {
      "cell_type": "code",
      "source": [
        "class Vehicle:\n",
        "    def __init__(self, v_type):\n",
        "        self.type = v_type\n",
        "\n",
        "class Car(Vehicle):\n",
        "    def __init__(self, v_type, brand):\n",
        "        super().__init__(v_type)\n",
        "        self.brand = brand\n",
        "\n",
        "class ElectricCar(Car):\n",
        "    def __init__(self, v_type, brand, battery):\n",
        "        super().__init__(v_type, brand)\n",
        "        self.battery = battery\n"
      ],
      "metadata": {
        "id": "H6njcSoVix69"
      },
      "execution_count": 3,
      "outputs": []
    },
    {
      "cell_type": "code",
      "source": [
        "class Bird:\n",
        "    def fly(self):\n",
        "        print(\"Bird is flying\")\n",
        "\n",
        "class Sparrow(Bird):\n",
        "    def fly(self):\n",
        "        print(\"Sparrow flies high\")\n",
        "\n",
        "class Penguin(Bird):\n",
        "    def fly(self):\n",
        "        print(\"Penguin cannot fly\")\n"
      ],
      "metadata": {
        "id": "4Ec4H994ix4d"
      },
      "execution_count": 4,
      "outputs": []
    },
    {
      "cell_type": "code",
      "source": [
        "class BankAccount:\n",
        "    def __init__(self):\n",
        "        self.__balance = 0\n",
        "\n",
        "    def deposit(self, amount):\n",
        "        self.__balance += amount\n",
        "\n",
        "    def withdraw(self, amount):\n",
        "        if amount <= self.__balance:\n",
        "            self.__balance -= amount\n",
        "\n",
        "    def get_balance(self):\n",
        "        return self.__balance\n"
      ],
      "metadata": {
        "id": "qXrXhIJ_ix1V"
      },
      "execution_count": 5,
      "outputs": []
    },
    {
      "cell_type": "code",
      "source": [
        "class Instrument:\n",
        "    def play(self):\n",
        "        print(\"Instrument is playing\")\n",
        "\n",
        "class Guitar(Instrument):\n",
        "    def play(self):\n",
        "        print(\"Strumming guitar\")\n",
        "\n",
        "class Piano(Instrument):\n",
        "    def play(self):\n",
        "        print(\"Playing piano\")\n"
      ],
      "metadata": {
        "id": "yT_5LBbnixyl"
      },
      "execution_count": 6,
      "outputs": []
    },
    {
      "cell_type": "code",
      "source": [
        "class MathOperations:\n",
        "    @classmethod\n",
        "    def add_numbers(cls, a, b):\n",
        "        return a + b\n",
        "\n",
        "    @staticmethod\n",
        "    def subtract_numbers(a, b):\n",
        "        return a - b\n"
      ],
      "metadata": {
        "id": "rhOhMsZ9ixvd"
      },
      "execution_count": 7,
      "outputs": []
    },
    {
      "cell_type": "code",
      "source": [
        "class Person:\n",
        "    count = 0\n",
        "\n",
        "    def __init__(self, name):\n",
        "        self.name = name\n",
        "        Person.count += 1\n",
        "\n",
        "    @classmethod\n",
        "    def total_persons(cls):\n",
        "        return cls.count\n"
      ],
      "metadata": {
        "id": "z8rEp5lNixs1"
      },
      "execution_count": 8,
      "outputs": []
    },
    {
      "cell_type": "code",
      "source": [
        "class Fraction:\n",
        "    def __init__(self, numerator, denominator):\n",
        "        self.numerator = numerator\n",
        "        self.denominator = denominator\n",
        "\n",
        "    def __str__(self):\n",
        "        return f\"{self.numerator}/{self.denominator}\"\n"
      ],
      "metadata": {
        "id": "ccrft8XiixhN"
      },
      "execution_count": 9,
      "outputs": []
    },
    {
      "cell_type": "code",
      "source": [
        "class Vector:\n",
        "    def __init__(self, x, y):\n",
        "        self.x = x\n",
        "        self.y = y\n",
        "\n",
        "    def __add__(self, other):\n",
        "        return Vector(self.x + other.x, self.y + other.y)\n",
        "\n",
        "    def __str__(self):\n",
        "        return f\"({self.x}, {self.y})\"\n"
      ],
      "metadata": {
        "id": "paIZsNWwjHTP"
      },
      "execution_count": 10,
      "outputs": []
    },
    {
      "cell_type": "code",
      "source": [
        "class Person:\n",
        "    def __init__(self, name, age):\n",
        "        self.name = name\n",
        "        self.age = age\n",
        "\n",
        "    def greet(self):\n",
        "        print(f\"Hello, my name is {self.name} and I am {self.age} years old.\")\n"
      ],
      "metadata": {
        "id": "e6dlySANjHL9"
      },
      "execution_count": 11,
      "outputs": []
    },
    {
      "cell_type": "code",
      "source": [
        "class Student:\n",
        "    def __init__(self, name, grades):\n",
        "        self.name = name\n",
        "        self.grades = grades\n",
        "\n",
        "    def average_grade(self):\n",
        "        return sum(self.grades) / len(self.grades)\n"
      ],
      "metadata": {
        "id": "dGAUHe8MjHD3"
      },
      "execution_count": 12,
      "outputs": []
    },
    {
      "cell_type": "code",
      "source": [
        "class Rectangle:\n",
        "    def set_dimensions(self, length, width):\n",
        "        self.length = length\n",
        "        self.width = width\n",
        "\n",
        "    def area(self):\n",
        "        return self.length * self.width\n"
      ],
      "metadata": {
        "id": "s2tuAvzujNal"
      },
      "execution_count": 13,
      "outputs": []
    },
    {
      "cell_type": "code",
      "source": [
        "class Employee:\n",
        "    def calculate_salary(self, hours, rate):\n",
        "        return hours * rate\n",
        "\n",
        "class Manager(Employee):\n",
        "    def calculate_salary(self, hours, rate, bonus):\n",
        "        return super().calculate_salary(hours, rate) + bonus\n"
      ],
      "metadata": {
        "id": "hBEBXRSLjNS1"
      },
      "execution_count": 14,
      "outputs": []
    },
    {
      "cell_type": "code",
      "source": [
        "class Product:\n",
        "    def __init__(self, name, price, quantity):\n",
        "        self.name = name\n",
        "        self.price = price\n",
        "        self.quantity = quantity\n",
        "\n",
        "    def total_price(self):\n",
        "        return self.price * self.quantity\n"
      ],
      "metadata": {
        "id": "uTU6TM4cjNPl"
      },
      "execution_count": 15,
      "outputs": []
    },
    {
      "cell_type": "code",
      "source": [
        "from abc import ABC, abstractmethod\n",
        "\n",
        "class Animal(ABC):\n",
        "    @abstractmethod\n",
        "    def sound(self):\n",
        "        pass\n",
        "\n",
        "class Cow(Animal):\n",
        "    def sound(self):\n",
        "        return \"Moo\"\n",
        "\n",
        "class Sheep(Animal):\n",
        "    def sound(self):\n",
        "        return \"Baa\"\n"
      ],
      "metadata": {
        "id": "6PkXDCaojQXl"
      },
      "execution_count": 16,
      "outputs": []
    },
    {
      "cell_type": "code",
      "source": [
        "class Book:\n",
        "    def __init__(self, title, author, year_published):\n",
        "        self.title = title\n",
        "        self.author = author\n",
        "        self.year_published = year_published\n",
        "\n",
        "    def get_book_info(self):\n",
        "        return f\"{self.title} by {self.author}, published in {self.year_published}\"\n"
      ],
      "metadata": {
        "id": "5gWkOSnUjQTP"
      },
      "execution_count": 17,
      "outputs": []
    },
    {
      "cell_type": "code",
      "source": [
        "class House:\n",
        "    def __init__(self, address, price):\n",
        "        self.address = address\n",
        "        self.price = price\n",
        "\n",
        "class Mansion(House):\n",
        "    def __init__(self, address, price, number_of_rooms):\n",
        "        super().__init__(address, price)\n",
        "        self.number_of_rooms = number_of_rooms\n"
      ],
      "metadata": {
        "id": "6ad-cuGtjQQ9"
      },
      "execution_count": 18,
      "outputs": []
    },
    {
      "cell_type": "code",
      "source": [],
      "metadata": {
        "id": "uUYK0lGVjQOl"
      },
      "execution_count": null,
      "outputs": []
    },
    {
      "cell_type": "code",
      "source": [],
      "metadata": {
        "id": "GEPrNh_rjQMF"
      },
      "execution_count": null,
      "outputs": []
    }
  ]
}