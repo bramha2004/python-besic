{
  "nbformat": 4,
  "nbformat_minor": 0,
  "metadata": {
    "colab": {
      "provenance": []
    },
    "kernelspec": {
      "name": "python3",
      "display_name": "Python 3"
    },
    "language_info": {
      "name": "python"
    }
  },
  "cells": [
    {
      "cell_type": "markdown",
      "source": [
        "#1.Function vs. Method in Python\n",
        "\n",
        "Function: A block of reusable code (defined using def) that performs a specific task.\n",
        "Method: A function associated with an object. It's called using dot notation."
      ],
      "metadata": {
        "id": "B7y2rcnbdK1U"
      }
    },
    {
      "cell_type": "markdown",
      "source": [
        "#2,Function Arguments and Parameters\n",
        "\n",
        "Parameter: Variable listed in a function definition.\n",
        "\n",
        "Argument: Value passed to the function during a call."
      ],
      "metadata": {
        "id": "hCLM6BT0dLQ0"
      }
    },
    {
      "cell_type": "markdown",
      "source": [
        "#3.Different Ways to Define and Call a Function in Python\n",
        "\n",
        "Using the def keyword (standard function).\n",
        "\n",
        "Using lambda (anonymous functions).\n",
        "Functions can be called directly by their name followed by parentheses and required arguments"
      ],
      "metadata": {
        "id": "ClbLw1eAdLTc"
      }
    },
    {
      "cell_type": "markdown",
      "source": [
        "#4.Purpose of the return Statement\n",
        "The return statement is used to send a result back to the caller of the function and end the function execution at that point."
      ],
      "metadata": {
        "id": "ZVh2swkDdLYd"
      }
    },
    {
      "cell_type": "markdown",
      "source": [
        "#5.Iterators vs Iterables\n",
        "\n",
        "Iterable: An object that can be looped over (e.g., list, string).\n",
        "\n",
        "Iterator: An object with a state that yields the next item using the next() method. Iterators are created from iterables.\n",
        "\n"
      ],
      "metadata": {
        "id": "42mpaI8_dLdc"
      }
    },
    {
      "cell_type": "markdown",
      "source": [
        "#6.Concept of Generators in Python\n",
        "Generators are special functions that yield values one at a time using the yield keyword instead of returning them all at once. They allow for lazy evaluation and are memory efficient.\n",
        "\n"
      ],
      "metadata": {
        "id": "icMJOU5fdLh0"
      }
    },
    {
      "cell_type": "markdown",
      "source": [
        "#7.Advantages of Generators over Regular Functions\n",
        "\n",
        "Memory efficiency\n",
        "\n",
        "Lazy evaluation (values produced one by one)\n",
        "\n",
        "Suitable for handling large datasets or infinite sequences"
      ],
      "metadata": {
        "id": "L5ccnMhvdLkk"
      }
    },
    {
      "cell_type": "markdown",
      "source": [
        "#8.Lambda Function and Its Use\n",
        "A lambda function is an anonymous function defined using the lambda keyword. It is typically used for short, one-line functions passed as arguments to functions like map, filter, or sorted."
      ],
      "metadata": {
        "id": "Q8mnyQ6adLns"
      }
    },
    {
      "cell_type": "markdown",
      "source": [
        "#9.Purpose and Usage of map() Function\n",
        "The map() function applies a given function to each item in an iterable, producing a new iterable with transformed elements."
      ],
      "metadata": {
        "id": "byEJoLWtdLqE"
      }
    },
    {
      "cell_type": "markdown",
      "source": [
        "#10.Difference Between map(), reduce(), and filter()\n",
        "\n",
        "map(): Transforms each element using a function.\n",
        "\n",
        "filter(): Filters elements that meet a condition.\n",
        "\n",
        "reduce(): Aggregates elements into a single value using a function (like summing all elements)."
      ],
      "metadata": {
        "id": "56ZaJaNDdLs0"
      }
    },
    {
      "cell_type": "markdown",
      "source": [
        "#11.Internal Mechanism of reduce() (Written on Paper)\n",
        "\n",
        "Apply the reduce function step by step on the list from left to right.\n",
        "\n",
        "Keep a running total or accumulator updated by applying the operation to each item sequentially.\n",
        "\n"
      ],
      "metadata": {
        "id": "3ShnVmP1eP3F"
      }
    },
    {
      "cell_type": "code",
      "source": [
        "def sum_even(numbers):\n",
        "    return sum(x for x in numbers if x % 2 == 0)\n"
      ],
      "metadata": {
        "id": "pWzclZ7reXh0"
      },
      "execution_count": 1,
      "outputs": []
    },
    {
      "cell_type": "code",
      "source": [
        "def reverse_string(s):\n",
        "    return s[::-1]\n"
      ],
      "metadata": {
        "id": "hFqys8zfeXe0"
      },
      "execution_count": 2,
      "outputs": []
    },
    {
      "cell_type": "code",
      "source": [
        "def square_list(lst):\n",
        "    return [x ** 2 for x in lst]\n"
      ],
      "metadata": {
        "id": "bwW3AFGmeXZ0"
      },
      "execution_count": 3,
      "outputs": []
    },
    {
      "cell_type": "code",
      "source": [
        "def is_prime(n):\n",
        "    if n <= 1:\n",
        "        return False\n",
        "    for i in range(2, int(n ** 0.5) + 1):\n",
        "        if n % i == 0:\n",
        "            return False\n",
        "    return True\n",
        "\n",
        "primes = [x for x in range(1, 201) if is_prime(x)]\n"
      ],
      "metadata": {
        "id": "W7PJvPMHeXWs"
      },
      "execution_count": 4,
      "outputs": []
    },
    {
      "cell_type": "code",
      "source": [
        "class Fibonacci:\n",
        "    def __init__(self, max_terms):\n",
        "        self.max_terms = max_terms\n",
        "        self.a, self.b = 0, 1\n",
        "        self.count = 0\n",
        "\n",
        "    def __iter__(self):\n",
        "        return self\n",
        "\n",
        "    def __next__(self):\n",
        "        if self.count >= self.max_terms:\n",
        "            raise StopIteration\n",
        "        self.count += 1\n",
        "        result = self.a\n",
        "        self.a, self.b = self.b, self.a + self.b\n",
        "        return result\n"
      ],
      "metadata": {
        "id": "Ol6DOO1oeXTs"
      },
      "execution_count": 5,
      "outputs": []
    },
    {
      "cell_type": "code",
      "source": [
        "def powers_of_two(n):\n",
        "    for i in range(n + 1):\n",
        "        yield 2 ** i\n"
      ],
      "metadata": {
        "id": "wO8N5-hzeXRE"
      },
      "execution_count": 6,
      "outputs": []
    },
    {
      "cell_type": "code",
      "source": [
        "def read_lines(filename):\n",
        "    with open(filename, 'r') as file:\n",
        "        for line in file:\n",
        "            yield line.strip()\n"
      ],
      "metadata": {
        "id": "j3f2mRiLeXOs"
      },
      "execution_count": 7,
      "outputs": []
    },
    {
      "cell_type": "code",
      "source": [
        "data = [(1, 3), (2, 1), (4, 2)]\n",
        "sorted_data = sorted(data, key=lambda x: x[1])\n"
      ],
      "metadata": {
        "id": "pjxzpxP1eXME"
      },
      "execution_count": 8,
      "outputs": []
    },
    {
      "cell_type": "code",
      "source": [
        "celsius = [0, 20, 40]\n",
        "fahrenheit = list(map(lambda c: (c * 9/5) + 32, celsius))\n"
      ],
      "metadata": {
        "id": "NupYGVtneXJM"
      },
      "execution_count": 9,
      "outputs": []
    },
    {
      "cell_type": "code",
      "source": [
        "def remove_vowels(s):\n",
        "    return ''.join(filter(lambda x: x.lower() not in 'aeiou', s))\n"
      ],
      "metadata": {
        "id": "nNZK5o6geXGU"
      },
      "execution_count": 10,
      "outputs": []
    },
    {
      "cell_type": "code",
      "source": [
        "orders = [\n",
        "    [\"34587\", \"Learning Python\", 4, 40.95],\n",
        "    [\"98762\", \"Programming in C\", 2, 35.50],\n",
        "    [\"77226\", \"Python Cookbook\", 3, 50.00],\n",
        "    [\"88112\", \"Data Science\", 1, 20.00]\n",
        "]\n",
        "\n",
        "result = list(map(\n",
        "    lambda x: (x[0], x[2] * x[3] + (10 if x[2] * x[3] < 100 else 0)),\n",
        "    orders\n",
        "))\n"
      ],
      "metadata": {
        "id": "shZiaC-DeXBO"
      },
      "execution_count": 11,
      "outputs": []
    },
    {
      "cell_type": "code",
      "source": [],
      "metadata": {
        "id": "VKsHTj5HeW-s"
      },
      "execution_count": 11,
      "outputs": []
    },
    {
      "cell_type": "code",
      "source": [],
      "metadata": {
        "id": "gwMUFOmseW2E"
      },
      "execution_count": 11,
      "outputs": []
    },
    {
      "cell_type": "code",
      "source": [],
      "metadata": {
        "id": "GpspssJDeWq0"
      },
      "execution_count": 11,
      "outputs": []
    }
  ]
}