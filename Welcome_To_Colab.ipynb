{
  "cells": [
    {
      "cell_type": "code",
      "source": [
        "#Python is a high-level, interpreted programming language known for its readability and ease of use."
      ],
      "metadata": {
        "id": "iIi6oONBZ58Z"
      },
      "execution_count": 3,
      "outputs": []
    },
    {
      "cell_type": "code",
      "source": [
        "#An interpreter is a program that reads and executes code line by line. Python uses an interpreter to convert Python code into machine code at runtime."
      ],
      "metadata": {
        "id": "qcmslSyPbE7b"
      },
      "execution_count": 4,
      "outputs": []
    },
    {
      "cell_type": "code",
      "source": [
        "#Keywords are reserved words in Python that have special meaning, such as if, else, while, def, True, etc. They cannot be used as identifiers"
      ],
      "metadata": {
        "id": "r2ZOhJqIbNgq"
      },
      "execution_count": 6,
      "outputs": []
    },
    {
      "cell_type": "code",
      "source": [
        "#No, keywords cannot be used as variable names because they are reserved for specific functions in the language."
      ],
      "metadata": {
        "id": "TIhqHAl9cIea"
      },
      "execution_count": 7,
      "outputs": []
    },
    {
      "cell_type": "code",
      "source": [
        "#Mutability refers to whether or not an object’s value can be changed after it is created. Mutable objects can be changed; immutable objects cannot."
      ],
      "metadata": {
        "id": "Eogf-r0LcL6T"
      },
      "execution_count": 8,
      "outputs": []
    },
    {
      "cell_type": "code",
      "source": [
        "#Lists are designed for dynamic data where changes are frequent, so they allow modifications. Tuples, however, are used for fixed data collections and hence do not support changes for integrity and efficiency."
      ],
      "metadata": {
        "id": "ObxgnE-tcPMK"
      },
      "execution_count": 9,
      "outputs": []
    },
    {
      "cell_type": "code",
      "source": [
        "#(==) compares values.\n",
        "\n",
        "# is compares identities"
      ],
      "metadata": {
        "id": "XrtpjFj4cdyb"
      },
      "execution_count": 10,
      "outputs": []
    },
    {
      "cell_type": "code",
      "source": [
        "#Logical operators include and, or, and not. They are used to combine conditional statements."
      ],
      "metadata": {
        "id": "KNg-WLGNcsCT"
      },
      "execution_count": 11,
      "outputs": []
    },
    {
      "cell_type": "code",
      "source": [
        "#Type casting is converting one data type to another, such as from int to float."
      ],
      "metadata": {
        "id": "zqpu19Nmcud6"
      },
      "execution_count": 12,
      "outputs": []
    },
    {
      "cell_type": "code",
      "source": [
        "#Implicit: Python automatically converts types.\n",
        "\n",
        "#Explicit: Programmer manually converts using functions like int(), float(), etc."
      ],
      "metadata": {
        "id": "7Awjw2J6cx6K"
      },
      "execution_count": 13,
      "outputs": []
    },
    {
      "cell_type": "code",
      "source": [
        "#They allow the execution of code based on specific conditions, making programs decision-capable."
      ],
      "metadata": {
        "id": "MKTq8WQFc2rD"
      },
      "execution_count": 14,
      "outputs": []
    },
    {
      "cell_type": "code",
      "source": [
        "#elif provides additional conditions to check after if and before an optional else."
      ],
      "metadata": {
        "id": "kddZeP6Qc63r"
      },
      "execution_count": 15,
      "outputs": []
    },
    {
      "cell_type": "code",
      "source": [
        "#for loop is used when the number of iterations is known.\n",
        "\n",
        "#while loop is used when the number of iterations depends on a condition."
      ],
      "metadata": {
        "id": "cH7x0IFyc9S6"
      },
      "execution_count": 16,
      "outputs": []
    },
    {
      "cell_type": "code",
      "source": [
        "print(\"Hello, World!\")\n"
      ],
      "metadata": {
        "id": "ZVQlHmNDdCNs",
        "outputId": "8ed5047a-8af3-4b85-8e41-b10568f5b0ae",
        "colab": {
          "base_uri": "https://localhost:8080/"
        }
      },
      "execution_count": 17,
      "outputs": [
        {
          "output_type": "stream",
          "name": "stdout",
          "text": [
            "Hello, World!\n"
          ]
        }
      ]
    },
    {
      "cell_type": "code",
      "source": [
        "name = \"bramhananda das\"\n",
        "age = 20\n",
        "print(f\"My name is {name} and I am {age} years old.\")\n"
      ],
      "metadata": {
        "id": "CgdAv_pTdNOy",
        "outputId": "8116d0c3-b967-4b3c-d049-43553405748c",
        "colab": {
          "base_uri": "https://localhost:8080/"
        }
      },
      "execution_count": 19,
      "outputs": [
        {
          "output_type": "stream",
          "name": "stdout",
          "text": [
            "My name is bramhananda das and I am 20 years old.\n"
          ]
        }
      ]
    },
    {
      "cell_type": "code",
      "source": [
        "import keyword\n",
        "print(keyword.kwlist)\n"
      ],
      "metadata": {
        "id": "62qNrYs4dPr7",
        "outputId": "9b98da38-e124-4471-a4bc-47bc512c1c3e",
        "colab": {
          "base_uri": "https://localhost:8080/"
        }
      },
      "execution_count": 20,
      "outputs": [
        {
          "output_type": "stream",
          "name": "stdout",
          "text": [
            "['False', 'None', 'True', 'and', 'as', 'assert', 'async', 'await', 'break', 'class', 'continue', 'def', 'del', 'elif', 'else', 'except', 'finally', 'for', 'from', 'global', 'if', 'import', 'in', 'is', 'lambda', 'nonlocal', 'not', 'or', 'pass', 'raise', 'return', 'try', 'while', 'with', 'yield']\n"
          ]
        }
      ]
    },
    {
      "cell_type": "code",
      "source": [
        "import keyword\n",
        "word = input(\"Enter a word: \")\n",
        "print(keyword.iskeyword(word))\n"
      ],
      "metadata": {
        "id": "bgIaarq4dXm7",
        "outputId": "ad6442f2-86ad-438d-9ab2-2a18278a23e3",
        "colab": {
          "base_uri": "https://localhost:8080/"
        }
      },
      "execution_count": 21,
      "outputs": [
        {
          "output_type": "stream",
          "name": "stdout",
          "text": [
            "Enter a word: sky\n",
            "False\n"
          ]
        }
      ]
    },
    {
      "cell_type": "code",
      "source": [
        "a = float(input(\"Enter first number: \"))\n",
        "b = float(input(\"Enter second number: \"))\n",
        "print(\"Addition:\", a + b)\n",
        "print(\"Subtraction:\", a - b)\n",
        "print(\"Multiplication:\", a * b)\n",
        "print(\"Division:\", a / b)\n"
      ],
      "metadata": {
        "id": "fk85LRejdcnk",
        "outputId": "d6041770-f180-4765-ba2b-1552f17e691a",
        "colab": {
          "base_uri": "https://localhost:8080/"
        }
      },
      "execution_count": 22,
      "outputs": [
        {
          "output_type": "stream",
          "name": "stdout",
          "text": [
            "Enter first number: 2\n",
            "Enter second number: 2\n",
            "Addition: 4.0\n",
            "Subtraction: 0.0\n",
            "Multiplication: 4.0\n",
            "Division: 1.0\n"
          ]
        }
      ]
    },
    {
      "cell_type": "code",
      "source": [
        "x = 5\n",
        "y = 10\n",
        "print(x > 0 and y > 0)\n",
        "print(x > 0 or y < 0)\n",
        "print(not(x > 0))\n"
      ],
      "metadata": {
        "id": "9xCucX19dni6",
        "outputId": "2e159888-c816-47ac-864a-d31508646815",
        "colab": {
          "base_uri": "https://localhost:8080/"
        }
      },
      "execution_count": 23,
      "outputs": [
        {
          "output_type": "stream",
          "name": "stdout",
          "text": [
            "True\n",
            "True\n",
            "False\n"
          ]
        }
      ]
    },
    {
      "cell_type": "code",
      "source": [
        "s = input(\"Enter a value: \")\n",
        "print(\"Integer:\", int(s))\n",
        "print(\"Float:\", float(s))\n",
        "print(\"Boolean:\", bool(s))\n"
      ],
      "metadata": {
        "id": "T6e-vLiid3Kb",
        "outputId": "b60e44e8-b0df-40a2-ec19-6575a0103505",
        "colab": {
          "base_uri": "https://localhost:8080/"
        }
      },
      "execution_count": 24,
      "outputs": [
        {
          "output_type": "stream",
          "name": "stdout",
          "text": [
            "Enter a value: 10\n",
            "Integer: 10\n",
            "Float: 10.0\n",
            "Boolean: True\n"
          ]
        }
      ]
    },
    {
      "cell_type": "code",
      "source": [
        "num = float(input(\"Enter a number: \"))\n",
        "if num > 0:\n",
        "    print(\"Positive\")\n",
        "elif num < 0:\n",
        "    print(\"Negative\")\n",
        "else:\n",
        "    print(\"Zero\")\n"
      ],
      "metadata": {
        "id": "IweOuecvd86M",
        "outputId": "cf59d075-ac2e-4c32-c5b2-fdce4b11cf2d",
        "colab": {
          "base_uri": "https://localhost:8080/"
        }
      },
      "execution_count": 25,
      "outputs": [
        {
          "output_type": "stream",
          "name": "stdout",
          "text": [
            "Enter a number: 10\n",
            "Positive\n"
          ]
        }
      ]
    },
    {
      "cell_type": "code",
      "source": [
        "total = 0\n",
        "for i in range(2, 51, 2):\n",
        "    total += i\n",
        "print(\"Sum:\", total)\n"
      ],
      "metadata": {
        "id": "SXt2hGdNeCaa",
        "outputId": "cdadb958-18ef-4c66-a1ac-3f99cd53056f",
        "colab": {
          "base_uri": "https://localhost:8080/"
        }
      },
      "execution_count": 26,
      "outputs": [
        {
          "output_type": "stream",
          "name": "stdout",
          "text": [
            "Sum: 650\n"
          ]
        }
      ]
    },
    {
      "cell_type": "code",
      "source": [
        "s = input(\"Enter a string: \")\n",
        "rev = \"\"\n",
        "i = len(s) - 1\n",
        "while i >= 0:\n",
        "    rev += s[i]\n",
        "    i -= 1\n",
        "print(\"Reversed string:\", rev)\n"
      ],
      "metadata": {
        "id": "4RGEPHrYeGZr",
        "outputId": "4390d580-babc-4db0-fa53-7896d7b192ad",
        "colab": {
          "base_uri": "https://localhost:8080/"
        }
      },
      "execution_count": 27,
      "outputs": [
        {
          "output_type": "stream",
          "name": "stdout",
          "text": [
            "Enter a string: ball\n",
            "Reversed string: llab\n"
          ]
        }
      ]
    },
    {
      "cell_type": "code",
      "source": [
        "n = int(input(\"Enter a number: \"))\n",
        "fact = 1\n",
        "i = 1\n",
        "while i <= n:\n",
        "    fact *= i\n",
        "    i += 1\n",
        "print(\"Factorial:\", fact)\n"
      ],
      "metadata": {
        "id": "4bpfGMkjeJAr",
        "outputId": "ba384dff-447f-41f9-d503-caeb5d153487",
        "colab": {
          "base_uri": "https://localhost:8080/"
        }
      },
      "execution_count": 28,
      "outputs": [
        {
          "output_type": "stream",
          "name": "stdout",
          "text": [
            "Enter a number: 23\n",
            "Factorial: 25852016738884976640000\n"
          ]
        }
      ]
    },
    {
      "cell_type": "code",
      "source": [],
      "metadata": {
        "id": "jUBdbz9AePlj"
      },
      "execution_count": null,
      "outputs": []
    }
  ],
  "metadata": {
    "colab": {
      "name": "Welcome To Colab",
      "provenance": []
    },
    "kernelspec": {
      "display_name": "Python 3",
      "name": "python3"
    }
  },
  "nbformat": 4,
  "nbformat_minor": 0
}